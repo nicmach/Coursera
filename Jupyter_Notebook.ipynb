{
 "cells": [
  {
   "cell_type": "markdown",
   "metadata": {},
   "source": [
    "<center>\n",
    "    <img src=\"https://cf-courses-data.s3.us.cloud-object-storage.appdomain.cloud/IBMDeveloperSkillsNetwork-DS0105EN-SkillsNetwork/labs/Module2/images/SN_web_lightmode.png\" width=\"300\" alt=\"cognitiveclass.ai logo\"  />\n",
    "</center>\n"
   ]
  },
  {
   "cell_type": "markdown",
   "metadata": {},
   "source": [
    "#### Add your code below following the instructions given in the course\n"
   ]
  },
  {
   "cell_type": "markdown",
   "metadata": {},
   "source": [
    "### My Jupyter Notebook on IBM Watson Studio"
   ]
  },
  {
   "cell_type": "markdown",
   "metadata": {},
   "source": [
    "<strong>Moritz Langer</strong> <br>\n",
    "Desired occupation: Pentester"
   ]
  },
  {
   "cell_type": "markdown",
   "metadata": {},
   "source": [
    "<em>My interest in data science originates from the fact, that it is useful in many areas including cybersecurity (e.g. data based thread analysis). Data science also is required/ helps me in various other projects I am currently part of.</em>"
   ]
  },
  {
   "cell_type": "markdown",
   "metadata": {},
   "source": [
    "<h3>The code below (taken from a previous project I worked on) defines two classes, an Employee and a Manager. The latter inherits from the Employee class. Each class posses an init-function, to set up the base components. The code below the class definitions utilizes functions defined within the classes to achieve the following: <br> 1. Create a Manager call Dave with a base salary of 78500. <br> 2. Give Dave a raise of 1000 with a default bonus of 5% <br> 3. Print Dave's current salary. <br> 4. Give Dave a raise of 2000 with a bonus of 3% <br> 5. Print Dave's new salary.</h3>"
   ]
  },
  {
   "cell_type": "code",
   "execution_count": 2,
   "metadata": {},
   "outputs": [
    {
     "name": "stdout",
     "output_type": "stream",
     "text": [
      "79550.0\n",
      "81610.0\n"
     ]
    }
   ],
   "source": [
    "class Employee:\n",
    "    def __init__(self, name, salary=30000):\n",
    "        self.name = name\n",
    "        self.salary = salary\n",
    "\n",
    "    def give_raise(self, amount):\n",
    "        self.salary += amount\n",
    "\n",
    "class Manager(Employee):\n",
    "    def display(self):\n",
    "        print(\"Manager \", self.name)\n",
    "\n",
    "    def __init__(self, name, salary=50000, project=None):\n",
    "        Employee.__init__(self, name, salary)\n",
    "        self.project = project\n",
    "\n",
    "    # Add a give_raise method\n",
    "    def give_raise(self, amount, bonus=1.05):\n",
    "        Employee.give_raise(self,amount*bonus)\n",
    "        \n",
    "mngr = Manager(\"Dave\", 78500)\n",
    "mngr.give_raise(1000)\n",
    "print(mngr.salary)\n",
    "mngr.give_raise(2000, bonus=1.03)\n",
    "print(mngr.salary)"
   ]
  },
  {
   "cell_type": "markdown",
   "metadata": {},
   "source": [
    "<strong>List of things:</strong><br>\n",
    "<ul>\n",
    "    <li>Controller</li>\n",
    "    <li>Money</li>\n",
    "    <li>Schoolbook</li>\n",
    "    <li>Chips</li>\n",
    "</ul>    \n",
    "    \n",
    "<strong>List of important things in descending order:</strong><br>\n",
    "<ol>\n",
    "    <li>Computer</li>\n",
    "    <li>Courses</li>\n",
    "    <li>Books</li>\n",
    "    <li>Laptop</li>\n",
    "    <li>Mobile phone</li>\n",
    "</ol> \n",
    "\n",
    "<strong>If you feel comfortable with markdown and want to have a vault for your notes then take a look at Obsidian. Especially if you work in STEM related fields, the built in features as well as the extension, are very helpful. </strong>"
   ]
  }
 ],
 "metadata": {
  "kernelspec": {
   "display_name": "Python",
   "language": "python",
   "name": "conda-env-python-py"
  },
  "language_info": {
   "codemirror_mode": {
    "name": "ipython",
    "version": 3
   },
   "file_extension": ".py",
   "mimetype": "text/x-python",
   "name": "python",
   "nbconvert_exporter": "python",
   "pygments_lexer": "ipython3",
   "version": "3.7.12"
  }
 },
 "nbformat": 4,
 "nbformat_minor": 4
}
